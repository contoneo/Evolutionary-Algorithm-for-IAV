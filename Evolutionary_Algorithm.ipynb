{
 "cells": [
  {
   "attachments": {},
   "cell_type": "markdown",
   "metadata": {},
   "source": [
    "The code is running using NumPy.  The functions used are also available with torch and tensorflow, but \n",
    "if the Anaconda distribution of Python is installed, NumPy comes pre-installed and no further installation steps are necessary.\n",
    "\n",
    "In the following lines, we refer to this algorithm as \"EA\""
   ]
  },
  {
   "cell_type": "code",
   "execution_count": null,
   "metadata": {},
   "outputs": [],
   "source": [
    "import numpy as np"
   ]
  },
  {
   "attachments": {},
   "cell_type": "markdown",
   "metadata": {},
   "source": [
    "First, the variables needed for the implementation are set. The time unit in the implementation is milliseconds (ms)"
   ]
  },
  {
   "cell_type": "code",
   "execution_count": null,
   "metadata": {},
   "outputs": [],
   "source": [
    "# number of iterations in the Step_2\n",
    "step_2_iterations = 4\n",
    "# for every matrix containing samples in the way (t_Start, t_End) the columns are then numerated:\n",
    "t_start_column = 0\n",
    "t_end_column = 1\n",
    "# Possible offset of the range (T_Start, t_0) for the creation of samples in step_1\n",
    "offset = 10"
   ]
  },
  {
   "attachments": {},
   "cell_type": "markdown",
   "metadata": {},
   "source": [
    "Now, EA variables are set:\n",
    "* In V_1 it is desirable to prioritize | t_End − E_i | over | t_Start− E_i |, accordingly,  b must be higher than a , thus b > a\n",
    "* As V_2 corresponds with the main purpose of the test, it should be correspondingly higher than a and b , therefore c > b > a\n",
    "* If E is empty, then V_1 = 0"
   ]
  },
  {
   "cell_type": "code",
   "execution_count": null,
   "metadata": {},
   "outputs": [],
   "source": [
    "# T_Start: Instant when pre-crash recording time starts.\n",
    "T_Start\t= -5000\n",
    "# t_0: Instant when pre-crash recording time ends.  \n",
    "# As t_0 is the time when the recording algorithm start, it is normally set to zero.\n",
    "t_0 = 0\n",
    "# T: Pre-crash recording time established in the regulation.\n",
    "T = (T_Start, 0)\n",
    "# popsize: Population size in the Evolutive Algorithm.  Number of test samples created with the algorithm\n",
    "popsize\t= 4\n",
    "# lambda_new: New generated samples in each iteration\n",
    "lambda_new = 2\n",
    "# The value obtained from the minimum is divided by 1000 so that the value of V_1 is comparable with the of V_2 (next criteria).\n",
    "V_1_scale = 0.001\n",
    "\n",
    "# For the fitness function:\n",
    "a\t= 1  # Factor to weight | t_Start − E_i [ t_Start ] | in V_1\n",
    "b\t= 3  # Factor to weight | t_End − E_i [ t_End ] | in V_1\n",
    "c\t= 5  # Factor to weight V_2 over V_1\n",
    "\n",
    "# For the mutation function:\n",
    "mu = 0  # Mean in normal distribution: for the standard normal distribution set in zero\n",
    "sigma = 5 # Standard deviation in normal distribution: It is also known as the scale factor"
   ]
  },
  {
   "attachments": {},
   "cell_type": "markdown",
   "metadata": {},
   "source": [
    "error_hit_set\n",
    "(Fehlertreff in Excel sheet) is the set with the samples, that have discovered an error within the test procedure.  At the beginning of the whole procedure the set is empty, but as the procedure discover errors in testing, it will be filled with them.\n",
    "The next cell contains an example of a possible set of samples that had lead to an error."
   ]
  },
  {
   "cell_type": "code",
   "execution_count": null,
   "metadata": {},
   "outputs": [],
   "source": [
    "error_hit_set = np.array([[-4025, -300],[-3213, -1232]])"
   ]
  },
  {
   "attachments": {},
   "cell_type": "markdown",
   "metadata": {},
   "source": [
    "initialize_samples_array\n",
    "Create set of random test samples in the range [T_start-offset , t_0+offset]"
   ]
  },
  {
   "cell_type": "code",
   "execution_count": null,
   "metadata": {},
   "outputs": [],
   "source": [
    "def initialize_samples_array():\n",
    "    # Generate random values for the t_start values in the range [0,1]\n",
    "    t_start = np.random.rand(popsize, 1)\n",
    "    \n",
    "    # Generate random values for the t_End values in the range [0,t_start]\n",
    "    t_End = np.random.rand(popsize, 1) * t_start\n",
    "    \n",
    "    # Concatenate the columns to create the array of samples in the way (t_start, t_End)\n",
    "    array = np.concatenate((t_start, t_End), axis=1)\n",
    "    \n",
    "    # Establish the array in the range from T_start to t_0 plus the offset and round to have only integers \n",
    "    array = offset + np.rint(array * (T_Start - 2*offset))\n",
    "    \n",
    "    return array"
   ]
  },
  {
   "attachments": {},
   "cell_type": "markdown",
   "metadata": {},
   "source": []
  },
  {
   "cell_type": "code",
   "execution_count": 10,
   "metadata": {},
   "outputs": [],
   "source": [
    "def fitness_function(samples, error_hit_set):\n",
    "    res_V_1 = V_1(samples, error_hit_set) + c*V_2(samples)\n",
    "\n",
    "    return res_V_1\n",
    "\n",
    "def V_1(samples_array, error_hit_set):\n",
    "    # weight (t_Start, E_i[t_Starμ]) and t_End, E_i[t_End] in the samples and error_hit_set matrices \n",
    "    # with a and b correspondingly before the diffrence comparison between them \n",
    "    weights = np.array([[a,b]])\n",
    "    samples_weigthed = samples_array * weights\n",
    "    error_hit_set_weigthed = error_hit_set * weights\n",
    "    \n",
    "    # Calculate the absolute difference between each row in samples_weigthed and all rows in error_hit_set\n",
    "    diff = np.abs(samples_weigthed[:, None, :] - error_hit_set_weigthed)\n",
    "\n",
    "    # Sum the members for each sample case\n",
    "    sum_evaluation = diff.sum(axis=2)\n",
    "    \n",
    "    # return the minimum for each case multiplied by V_1_scale\n",
    "    return np.min(sum_evaluation, axis=1) * V_1_scale\n",
    "\n",
    "def V_2(samples_array):\n",
    "    # Get the t_end of samples\n",
    "    t_end = samples_array[:, t_end_column]\n",
    "\n",
    "    # If t_end>t_0 we return the diffrence, otherwise we return T_Start - t_end,\n",
    "    # distance = np.where(t_end>t_0, t_end - t_0, T_Start - t_end)\n",
    "    #\n",
    "    # But as t_0 is set at zero then t_end - t_0 can be just t_end\n",
    "    distance = np.where(t_end>t_0, t_end, T_Start - t_end)\n",
    "    \n",
    "    # We return only the positive numbers, as they are the ones not contained in the range [T_Start,t_0], \n",
    "    # othewise we return zero\n",
    "    return distance.clip(min=0)"
   ]
  }
 ],
 "metadata": {
  "kernelspec": {
   "display_name": "tf",
   "language": "python",
   "name": "python3"
  },
  "language_info": {
   "codemirror_mode": {
    "name": "ipython",
    "version": 3
   },
   "file_extension": ".py",
   "mimetype": "text/x-python",
   "name": "python",
   "nbconvert_exporter": "python",
   "pygments_lexer": "ipython3",
   "version": "3.7.9"
  },
  "orig_nbformat": 4
 },
 "nbformat": 4,
 "nbformat_minor": 2
}
